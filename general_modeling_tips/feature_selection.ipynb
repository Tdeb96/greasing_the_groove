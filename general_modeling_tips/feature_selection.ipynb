{
 "cells": [
  {
   "cell_type": "markdown",
   "metadata": {},
   "source": [
    "# Feature selection"
   ]
  },
  {
   "cell_type": "markdown",
   "metadata": {},
   "source": [
    "## Why is feature selection important?\n",
    "Removing noisy features will help with **memory, computational cost and accury of the model**. Also:\n",
    "1. Garbage in, garbage out\n",
    "2. Curse of Dimensionality: An increase in the dimensions can in theory, add more information to the data thereby improving the quality of data but practically increases the noise and redundancy during its analysis. \n",
    "3. Occam's Razor: With all else being equal, simpler solutions to problems are preferred over more complex ones.\n",
    "\n",
    "Seven feature selection techniques are:\n",
    "1. Domain knowledge\n",
    "2. Missing values\n",
    "3. Correlation with the target class label\n",
    "4. Corelation between the features: to avoid multicollineairity\n",
    "5. dimension reduction techniques (such as PCA)\n",
    "6. Forward (or backwards) feature selection\n",
    "7. Feature importance"
   ]
  },
  {
   "cell_type": "markdown",
   "metadata": {},
   "source": [
    "## Implementation"
   ]
  },
  {
   "cell_type": "markdown",
   "metadata": {},
   "source": [
    "Sklearn has a RFE (Recursive Feature Elimination) implementation.\n",
    "Some important parameters to the RFE function:\n",
    "1. **estimator**: Supervised learning estimator\n",
    "2. **n_features_to_select**: final number of features to select, if none, then 50% of total features selected\n",
    "3. **step**: # of features to remove each iteration\n",
    "4. **importance_getter**: if 'auto' uses the feature importance either through a coef_ or feature_importances_ attributes of estimator"
   ]
  },
  {
   "cell_type": "code",
   "execution_count": 2,
   "metadata": {},
   "outputs": [
    {
     "name": "stdout",
     "output_type": "stream",
     "text": [
      "<class 'pandas.core.frame.DataFrame'>\n",
      "RangeIndex: 200 entries, 0 to 199\n",
      "Data columns (total 4 columns):\n",
      " #   Column     Non-Null Count  Dtype  \n",
      "---  ------     --------------  -----  \n",
      " 0   TV         200 non-null    float64\n",
      " 1   radio      200 non-null    float64\n",
      " 2   newspaper  200 non-null    float64\n",
      " 3   sales      200 non-null    float64\n",
      "dtypes: float64(4)\n",
      "memory usage: 6.4 KB\n"
     ]
    },
    {
     "data": {
      "text/plain": [
       "RFE(estimator=LinearRegression(), n_features_to_select=2)"
      ]
     },
     "execution_count": 2,
     "metadata": {},
     "output_type": "execute_result"
    }
   ],
   "source": [
    "from sklearn.feature_selection import RFE\n",
    "from sklearn.linear_model import LinearRegression\n",
    "import pandas as pd\n",
    "\n",
    "# Read in the data\n",
    "df = pd.read_csv('data/Advertising.csv')\n",
    "df = df.drop(['Unnamed: 0'], axis=1)\n",
    "X = df.drop(['sales'], axis=1)\n",
    "y = df['sales']\n",
    "\n",
    "rfe_selector = RFE(estimator=LinearRegression(), n_features_to_select=2, step=1, importance_getter='auto')\n",
    "rfe_selector.fit(X, y)"
   ]
  },
  {
   "cell_type": "code",
   "execution_count": 4,
   "metadata": {},
   "outputs": [
    {
     "name": "stdout",
     "output_type": "stream",
     "text": [
      "[ True  True False]\n",
      "[1 1 2]\n",
      "The selected features are ['TV', 'radio']\n"
     ]
    }
   ],
   "source": [
    "# The best set of features that are selected, denoted as True, False\n",
    "print(rfe_selector.support_)\n",
    "# All selected features are marked 1, the unselected redundant features ranked in increasing order\n",
    "print(rfe_selector.ranking_)\n",
    "\n",
    "# Get a mask, or integer index, of the features selected\n",
    "rfe_support = rfe_selector.get_support()\n",
    "rfe_feature = X.loc[:,rfe_support].columns.tolist()\n",
    "\n",
    "# print selected features\n",
    "print('The selected features are', rfe_feature)"
   ]
  }
 ],
 "metadata": {
  "interpreter": {
   "hash": "6d249d5c8585556e17b2cc7e740a299185caa4951d7e8b401975a67270e97929"
  },
  "kernelspec": {
   "display_name": "Python 3.9.0 64-bit ('3.9.0')",
   "language": "python",
   "name": "python3"
  },
  "language_info": {
   "codemirror_mode": {
    "name": "ipython",
    "version": 3
   },
   "file_extension": ".py",
   "mimetype": "text/x-python",
   "name": "python",
   "nbconvert_exporter": "python",
   "pygments_lexer": "ipython3",
   "version": "3.9.0"
  },
  "orig_nbformat": 4
 },
 "nbformat": 4,
 "nbformat_minor": 2
}
